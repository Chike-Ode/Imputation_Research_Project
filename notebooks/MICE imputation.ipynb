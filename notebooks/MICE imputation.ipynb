{
 "cells": [
  {
   "cell_type": "code",
   "execution_count": 1,
   "id": "cf1e18cd",
   "metadata": {},
   "outputs": [
    {
     "ename": "KeyError",
     "evalue": "\"['serving_size'] not found in axis\"",
     "output_type": "error",
     "traceback": [
      "\u001b[1;31m---------------------------------------------------------------------------\u001b[0m",
      "\u001b[1;31mKeyError\u001b[0m                                  Traceback (most recent call last)",
      "\u001b[1;32m~\\AppData\\Local\\Temp/ipykernel_22660/2859349074.py\u001b[0m in \u001b[0;36m<module>\u001b[1;34m\u001b[0m\n\u001b[0;32m     15\u001b[0m \u001b[1;33m\u001b[0m\u001b[0m\n\u001b[0;32m     16\u001b[0m \u001b[1;31m#dropping servin_size\u001b[0m\u001b[1;33m\u001b[0m\u001b[1;33m\u001b[0m\u001b[0m\n\u001b[1;32m---> 17\u001b[1;33m \u001b[0mlut\u001b[0m\u001b[1;33m=\u001b[0m\u001b[0mlut\u001b[0m\u001b[1;33m.\u001b[0m\u001b[0mdrop\u001b[0m\u001b[1;33m(\u001b[0m\u001b[1;34m'serving_size'\u001b[0m\u001b[1;33m,\u001b[0m\u001b[0maxis\u001b[0m\u001b[1;33m=\u001b[0m\u001b[1;36m1\u001b[0m\u001b[1;33m)\u001b[0m\u001b[1;33m\u001b[0m\u001b[1;33m\u001b[0m\u001b[0m\n\u001b[0m\u001b[0;32m     18\u001b[0m \u001b[0msug\u001b[0m\u001b[1;33m=\u001b[0m\u001b[0msug\u001b[0m\u001b[1;33m.\u001b[0m\u001b[0mdrop\u001b[0m\u001b[1;33m(\u001b[0m\u001b[1;34m'serving_size'\u001b[0m\u001b[1;33m,\u001b[0m\u001b[0maxis\u001b[0m\u001b[1;33m=\u001b[0m\u001b[1;36m1\u001b[0m\u001b[1;33m)\u001b[0m\u001b[1;33m\u001b[0m\u001b[1;33m\u001b[0m\u001b[0m\n\u001b[0;32m     19\u001b[0m \u001b[0mwat\u001b[0m\u001b[1;33m=\u001b[0m\u001b[0mwat\u001b[0m\u001b[1;33m.\u001b[0m\u001b[0mdrop\u001b[0m\u001b[1;33m(\u001b[0m\u001b[1;34m'serving_size'\u001b[0m\u001b[1;33m,\u001b[0m\u001b[0maxis\u001b[0m\u001b[1;33m=\u001b[0m\u001b[1;36m1\u001b[0m\u001b[1;33m)\u001b[0m\u001b[1;33m\u001b[0m\u001b[1;33m\u001b[0m\u001b[0m\n",
      "\u001b[1;32m~\\anaconda3\\lib\\site-packages\\pandas\\util\\_decorators.py\u001b[0m in \u001b[0;36mwrapper\u001b[1;34m(*args, **kwargs)\u001b[0m\n\u001b[0;32m    309\u001b[0m                     \u001b[0mstacklevel\u001b[0m\u001b[1;33m=\u001b[0m\u001b[0mstacklevel\u001b[0m\u001b[1;33m,\u001b[0m\u001b[1;33m\u001b[0m\u001b[1;33m\u001b[0m\u001b[0m\n\u001b[0;32m    310\u001b[0m                 )\n\u001b[1;32m--> 311\u001b[1;33m             \u001b[1;32mreturn\u001b[0m \u001b[0mfunc\u001b[0m\u001b[1;33m(\u001b[0m\u001b[1;33m*\u001b[0m\u001b[0margs\u001b[0m\u001b[1;33m,\u001b[0m \u001b[1;33m**\u001b[0m\u001b[0mkwargs\u001b[0m\u001b[1;33m)\u001b[0m\u001b[1;33m\u001b[0m\u001b[1;33m\u001b[0m\u001b[0m\n\u001b[0m\u001b[0;32m    312\u001b[0m \u001b[1;33m\u001b[0m\u001b[0m\n\u001b[0;32m    313\u001b[0m         \u001b[1;32mreturn\u001b[0m \u001b[0mwrapper\u001b[0m\u001b[1;33m\u001b[0m\u001b[1;33m\u001b[0m\u001b[0m\n",
      "\u001b[1;32m~\\anaconda3\\lib\\site-packages\\pandas\\core\\frame.py\u001b[0m in \u001b[0;36mdrop\u001b[1;34m(self, labels, axis, index, columns, level, inplace, errors)\u001b[0m\n\u001b[0;32m   4904\u001b[0m                 \u001b[0mweight\u001b[0m  \u001b[1;36m1.0\u001b[0m     \u001b[1;36m0.8\u001b[0m\u001b[1;33m\u001b[0m\u001b[1;33m\u001b[0m\u001b[0m\n\u001b[0;32m   4905\u001b[0m         \"\"\"\n\u001b[1;32m-> 4906\u001b[1;33m         return super().drop(\n\u001b[0m\u001b[0;32m   4907\u001b[0m             \u001b[0mlabels\u001b[0m\u001b[1;33m=\u001b[0m\u001b[0mlabels\u001b[0m\u001b[1;33m,\u001b[0m\u001b[1;33m\u001b[0m\u001b[1;33m\u001b[0m\u001b[0m\n\u001b[0;32m   4908\u001b[0m             \u001b[0maxis\u001b[0m\u001b[1;33m=\u001b[0m\u001b[0maxis\u001b[0m\u001b[1;33m,\u001b[0m\u001b[1;33m\u001b[0m\u001b[1;33m\u001b[0m\u001b[0m\n",
      "\u001b[1;32m~\\anaconda3\\lib\\site-packages\\pandas\\core\\generic.py\u001b[0m in \u001b[0;36mdrop\u001b[1;34m(self, labels, axis, index, columns, level, inplace, errors)\u001b[0m\n\u001b[0;32m   4148\u001b[0m         \u001b[1;32mfor\u001b[0m \u001b[0maxis\u001b[0m\u001b[1;33m,\u001b[0m \u001b[0mlabels\u001b[0m \u001b[1;32min\u001b[0m \u001b[0maxes\u001b[0m\u001b[1;33m.\u001b[0m\u001b[0mitems\u001b[0m\u001b[1;33m(\u001b[0m\u001b[1;33m)\u001b[0m\u001b[1;33m:\u001b[0m\u001b[1;33m\u001b[0m\u001b[1;33m\u001b[0m\u001b[0m\n\u001b[0;32m   4149\u001b[0m             \u001b[1;32mif\u001b[0m \u001b[0mlabels\u001b[0m \u001b[1;32mis\u001b[0m \u001b[1;32mnot\u001b[0m \u001b[1;32mNone\u001b[0m\u001b[1;33m:\u001b[0m\u001b[1;33m\u001b[0m\u001b[1;33m\u001b[0m\u001b[0m\n\u001b[1;32m-> 4150\u001b[1;33m                 \u001b[0mobj\u001b[0m \u001b[1;33m=\u001b[0m \u001b[0mobj\u001b[0m\u001b[1;33m.\u001b[0m\u001b[0m_drop_axis\u001b[0m\u001b[1;33m(\u001b[0m\u001b[0mlabels\u001b[0m\u001b[1;33m,\u001b[0m \u001b[0maxis\u001b[0m\u001b[1;33m,\u001b[0m \u001b[0mlevel\u001b[0m\u001b[1;33m=\u001b[0m\u001b[0mlevel\u001b[0m\u001b[1;33m,\u001b[0m \u001b[0merrors\u001b[0m\u001b[1;33m=\u001b[0m\u001b[0merrors\u001b[0m\u001b[1;33m)\u001b[0m\u001b[1;33m\u001b[0m\u001b[1;33m\u001b[0m\u001b[0m\n\u001b[0m\u001b[0;32m   4151\u001b[0m \u001b[1;33m\u001b[0m\u001b[0m\n\u001b[0;32m   4152\u001b[0m         \u001b[1;32mif\u001b[0m \u001b[0minplace\u001b[0m\u001b[1;33m:\u001b[0m\u001b[1;33m\u001b[0m\u001b[1;33m\u001b[0m\u001b[0m\n",
      "\u001b[1;32m~\\anaconda3\\lib\\site-packages\\pandas\\core\\generic.py\u001b[0m in \u001b[0;36m_drop_axis\u001b[1;34m(self, labels, axis, level, errors)\u001b[0m\n\u001b[0;32m   4183\u001b[0m                 \u001b[0mnew_axis\u001b[0m \u001b[1;33m=\u001b[0m \u001b[0maxis\u001b[0m\u001b[1;33m.\u001b[0m\u001b[0mdrop\u001b[0m\u001b[1;33m(\u001b[0m\u001b[0mlabels\u001b[0m\u001b[1;33m,\u001b[0m \u001b[0mlevel\u001b[0m\u001b[1;33m=\u001b[0m\u001b[0mlevel\u001b[0m\u001b[1;33m,\u001b[0m \u001b[0merrors\u001b[0m\u001b[1;33m=\u001b[0m\u001b[0merrors\u001b[0m\u001b[1;33m)\u001b[0m\u001b[1;33m\u001b[0m\u001b[1;33m\u001b[0m\u001b[0m\n\u001b[0;32m   4184\u001b[0m             \u001b[1;32melse\u001b[0m\u001b[1;33m:\u001b[0m\u001b[1;33m\u001b[0m\u001b[1;33m\u001b[0m\u001b[0m\n\u001b[1;32m-> 4185\u001b[1;33m                 \u001b[0mnew_axis\u001b[0m \u001b[1;33m=\u001b[0m \u001b[0maxis\u001b[0m\u001b[1;33m.\u001b[0m\u001b[0mdrop\u001b[0m\u001b[1;33m(\u001b[0m\u001b[0mlabels\u001b[0m\u001b[1;33m,\u001b[0m \u001b[0merrors\u001b[0m\u001b[1;33m=\u001b[0m\u001b[0merrors\u001b[0m\u001b[1;33m)\u001b[0m\u001b[1;33m\u001b[0m\u001b[1;33m\u001b[0m\u001b[0m\n\u001b[0m\u001b[0;32m   4186\u001b[0m             \u001b[0mresult\u001b[0m \u001b[1;33m=\u001b[0m \u001b[0mself\u001b[0m\u001b[1;33m.\u001b[0m\u001b[0mreindex\u001b[0m\u001b[1;33m(\u001b[0m\u001b[1;33m**\u001b[0m\u001b[1;33m{\u001b[0m\u001b[0maxis_name\u001b[0m\u001b[1;33m:\u001b[0m \u001b[0mnew_axis\u001b[0m\u001b[1;33m}\u001b[0m\u001b[1;33m)\u001b[0m\u001b[1;33m\u001b[0m\u001b[1;33m\u001b[0m\u001b[0m\n\u001b[0;32m   4187\u001b[0m \u001b[1;33m\u001b[0m\u001b[0m\n",
      "\u001b[1;32m~\\anaconda3\\lib\\site-packages\\pandas\\core\\indexes\\base.py\u001b[0m in \u001b[0;36mdrop\u001b[1;34m(self, labels, errors)\u001b[0m\n\u001b[0;32m   6015\u001b[0m         \u001b[1;32mif\u001b[0m \u001b[0mmask\u001b[0m\u001b[1;33m.\u001b[0m\u001b[0many\u001b[0m\u001b[1;33m(\u001b[0m\u001b[1;33m)\u001b[0m\u001b[1;33m:\u001b[0m\u001b[1;33m\u001b[0m\u001b[1;33m\u001b[0m\u001b[0m\n\u001b[0;32m   6016\u001b[0m             \u001b[1;32mif\u001b[0m \u001b[0merrors\u001b[0m \u001b[1;33m!=\u001b[0m \u001b[1;34m\"ignore\"\u001b[0m\u001b[1;33m:\u001b[0m\u001b[1;33m\u001b[0m\u001b[1;33m\u001b[0m\u001b[0m\n\u001b[1;32m-> 6017\u001b[1;33m                 \u001b[1;32mraise\u001b[0m \u001b[0mKeyError\u001b[0m\u001b[1;33m(\u001b[0m\u001b[1;34mf\"{labels[mask]} not found in axis\"\u001b[0m\u001b[1;33m)\u001b[0m\u001b[1;33m\u001b[0m\u001b[1;33m\u001b[0m\u001b[0m\n\u001b[0m\u001b[0;32m   6018\u001b[0m             \u001b[0mindexer\u001b[0m \u001b[1;33m=\u001b[0m \u001b[0mindexer\u001b[0m\u001b[1;33m[\u001b[0m\u001b[1;33m~\u001b[0m\u001b[0mmask\u001b[0m\u001b[1;33m]\u001b[0m\u001b[1;33m\u001b[0m\u001b[1;33m\u001b[0m\u001b[0m\n\u001b[0;32m   6019\u001b[0m         \u001b[1;32mreturn\u001b[0m \u001b[0mself\u001b[0m\u001b[1;33m.\u001b[0m\u001b[0mdelete\u001b[0m\u001b[1;33m(\u001b[0m\u001b[0mindexer\u001b[0m\u001b[1;33m)\u001b[0m\u001b[1;33m\u001b[0m\u001b[1;33m\u001b[0m\u001b[0m\n",
      "\u001b[1;31mKeyError\u001b[0m: \"['serving_size'] not found in axis\""
     ]
    }
   ],
   "source": [
    "#get processed data\n",
    "\n",
    "import pandas as pd\n",
    "\n",
    "lut = pd.read_csv(\"https://github.com/Chike-Ode/Imputation_Research_Project/blob/master/data/processed/lutein.csv?raw=true\")\n",
    "\n",
    "sug = pd.read_csv(\"https://github.com/Chike-Ode/Imputation_Research_Project/blob/master/data/processed/sugars.csv?raw=true\")\n",
    "\n",
    "wat=pd.read_csv(\"https://github.com/Chike-Ode/Imputation_Research_Project/blob/master/data/processed/water.csv?raw=true\")\n",
    "\n",
    "#dropping Name column\n",
    "lut=lut.drop('name',axis=1)\n",
    "sug=sug.drop('name',axis=1)\n",
    "wat=wat.drop('name',axis=1)\n"
   ]
  },
  {
   "cell_type": "code",
   "execution_count": 3,
   "id": "cd586ddb",
   "metadata": {},
   "outputs": [],
   "source": [
    "#replace NaN using MICE algorithm\n",
    "from sklearn.experimental import enable_iterative_imputer\n",
    "from sklearn.impute import IterativeImputer\n",
    "\n",
    "\n",
    "imp = IterativeImputer(max_iter=10, random_state=2023)\n",
    "\n",
    "#lutein mcar\n",
    "#Need to drop lutein mar and true lutein columns\n",
    "lutmcar=lut.copy()\n",
    "lutmcar=lutmcar.drop(['lutein_zeaxanthin_mar','lutein_zeaxanthin'],axis=1)\n",
    "imp.fit(lutmcar)\n",
    "lutmcar2=imp.transform(lutmcar)\n",
    "\n",
    "lutmcarimp = pd.DataFrame(lutmcar2, columns = lutmcar.columns)\n",
    "\n",
    "#lutein mar\n",
    "#Need to drop lutein mcar and true lutein columns\n",
    "lutmar=lut.copy()\n",
    "lutmar=lutmar.drop(['lutein_zeaxanthin_mcar','lutein_zeaxanthin'],axis=1)\n",
    "imp.fit(lutmar)\n",
    "lutmar2=imp.transform(lutmar)\n",
    "\n",
    "lutmarimp = pd.DataFrame(lutmar2, columns = lutmar.columns)\n",
    "\n",
    "#sugars mcar\n",
    "#Need to drop sugar mar and true sugar columns\n",
    "sugmcar=sug.copy()\n",
    "sugmcar=sugmcar.drop(['sugars_mar','sugars'],axis=1)\n",
    "imp.fit(sugmcar)\n",
    "sugmcar2=imp.transform(sugmcar)\n",
    "sugmcarimp = pd.DataFrame(sugmcar2, columns = sugmcar.columns)\n",
    "\n",
    "\n",
    "#sugars mar\n",
    "#Need to drop sugar mcar and true sugar columns\n",
    "sugmar=sug.copy()\n",
    "sugmar=sugmar.drop(['sugars_mcar','sugars'],axis=1)\n",
    "imp.fit(sugmar)\n",
    "sugmar2=imp.transform(sugmar)\n",
    "sugmarimp = pd.DataFrame(sugmar2, columns = sugmar.columns)\n",
    "\n",
    "\n",
    "#water mcar\n",
    "#Need to drop water mar and true water columns\n",
    "watmcar=wat.copy()\n",
    "watmcar=watmcar.drop(['water_mar','water'],axis=1)\n",
    "imp.fit(watmcar)\n",
    "watmcar2=imp.transform(watmcar)\n",
    "watmcarimp = pd.DataFrame(watmcar2, columns = watmcar.columns)\n",
    "\n",
    "\n",
    "#water mar\n",
    "#Need to drop water mcar and true water columns\n",
    "watmar=wat.copy()\n",
    "watmar=watmar.drop(['water_mcar','water'],axis=1)\n",
    "imp.fit(watmar)\n",
    "watmar2=imp.transform(watmar)\n",
    "watmarimp = pd.DataFrame(watmar2, columns = watmar.columns)\n"
   ]
  },
  {
   "cell_type": "code",
   "execution_count": 4,
   "id": "034a5a6c",
   "metadata": {},
   "outputs": [],
   "source": [
    "#adding back the column with true values\n",
    "\n",
    "lutmcarimp['true_lut'] = lut['lutein_zeaxanthin'].values\n",
    "lutmarimp['true_lut'] = lut['lutein_zeaxanthin'].values\n",
    "\n",
    "sugmcarimp['true_sug'] = sug['sugars'].values\n",
    "sugmarimp['true_sug'] = sug['sugars'].values\n",
    "\n",
    "watmcarimp['true_wat'] = wat['water'].values\n",
    "watmarimp['true_wat'] = wat['water'].values"
   ]
  },
  {
   "cell_type": "code",
   "execution_count": 5,
   "id": "6cee2bea",
   "metadata": {},
   "outputs": [
    {
     "name": "stdout",
     "output_type": "stream",
     "text": [
      "RMSE: 428.817930744911\n",
      "RMSE: 464.55477742759507\n",
      "RMSE: 5.455392326716083\n",
      "RMSE: 3.667661134704056\n",
      "RMSE: 0.36204399923720865\n",
      "RMSE: 0.25807238991238446\n",
      "[['lutein', 'mcar', 'MICE', 428.817930744911], ['lutein', 'mar', 'MICE', 464.55477742759507], ['sugars', 'mcar', 'MICE', 5.455392326716083], ['sugars', 'mar', 'MICE', 3.667661134704056], ['water', 'mcar', 'MICE', 0.36204399923720865], ['water', 'mar', 'MICE', 0.25807238991238446]]\n"
     ]
    }
   ],
   "source": [
    "#calculating rmse for each columns and missing type\n",
    "import math\n",
    "import numpy as np\n",
    "\n",
    "\n",
    "meth='MICE'\n",
    "results=[]\n",
    "\n",
    "#lutein mcar\n",
    "dat='lutein'\n",
    "dt=lutmcarimp\n",
    "\n",
    "dt['sqrt']=(dt['true_lut']-dt['lutein_zeaxanthin_mcar'])**2\n",
    "lutmcarrmse=math.sqrt(dt['sqrt'].mean())\n",
    "print(\"RMSE:\",lutmcarrmse)\n",
    "results.append([dat,'mcar',meth,lutmcarrmse])\n",
    "\n",
    "#lutein mar\n",
    "dt=lutmarimp\n",
    "\n",
    "dt['sqrt']=(dt['true_lut']-dt['lutein_zeaxanthin_mar'])**2\n",
    "lutmarrmse=math.sqrt(dt['sqrt'].mean())\n",
    "print(\"RMSE:\",lutmarrmse)\n",
    "results.append([dat,'mar',meth,lutmarrmse])\n",
    "\n",
    "#sugars mcar\n",
    "dat='sugars'\n",
    "dt=sugmcarimp\n",
    "\n",
    "dt['sqrt']=(dt['true_sug']-dt['sugars_mcar'])**2\n",
    "sugmcarrmse=math.sqrt(dt['sqrt'].mean())\n",
    "print(\"RMSE:\",sugmcarrmse)\n",
    "results.append([dat,'mcar',meth,sugmcarrmse])\n",
    "\n",
    "#sugars mar\n",
    "dt=sugmarimp\n",
    "\n",
    "dt['sqrt']=(dt['true_sug']-dt['sugars_mar'])**2\n",
    "sugmarrmse=math.sqrt(dt['sqrt'].mean())\n",
    "print(\"RMSE:\",sugmarrmse)\n",
    "results.append([dat,'mar',meth,sugmarrmse])\n",
    "\n",
    "#water mcar\n",
    "dat='water'\n",
    "dt=watmcarimp\n",
    "\n",
    "dt['sqrt']=(dt['true_wat']-dt['water_mcar'])**2\n",
    "watmcarrmse=math.sqrt(dt['sqrt'].mean())\n",
    "print(\"RMSE:\",watmcarrmse)\n",
    "results.append([dat,'mcar',meth,watmcarrmse])\n",
    "\n",
    "#water mcar\n",
    "dt=watmarimp\n",
    "\n",
    "dt['sqrt']=(dt['true_wat']-dt['water_mar'])**2\n",
    "watmarrmse=math.sqrt(dt['sqrt'].mean())\n",
    "print(\"RMSE:\",watmarrmse)\n",
    "results.append([dat,'mar',meth,watmarrmse])\n",
    "\n",
    "print(results)"
   ]
  },
  {
   "cell_type": "code",
   "execution_count": 6,
   "id": "41229d7c",
   "metadata": {},
   "outputs": [
    {
     "name": "stdout",
     "output_type": "stream",
     "text": [
      "   Column Missing type Imputation method        RMSE\n",
      "0  lutein         mcar              MICE  428.817931\n",
      "1  lutein          mar              MICE  464.554777\n",
      "2  sugars         mcar              MICE    5.455392\n",
      "3  sugars          mar              MICE    3.667661\n",
      "4   water         mcar              MICE    0.362044\n",
      "5   water          mar              MICE    0.258072\n"
     ]
    }
   ],
   "source": [
    "res = pd.DataFrame(results, columns = ['Column', 'Missing type','Imputation method','RMSE'])\n",
    "print(res)"
   ]
  },
  {
   "cell_type": "code",
   "execution_count": null,
   "id": "5298d43b",
   "metadata": {},
   "outputs": [],
   "source": []
  }
 ],
 "metadata": {
  "kernelspec": {
   "display_name": "Python 3 (ipykernel)",
   "language": "python",
   "name": "python3"
  },
  "language_info": {
   "codemirror_mode": {
    "name": "ipython",
    "version": 3
   },
   "file_extension": ".py",
   "mimetype": "text/x-python",
   "name": "python",
   "nbconvert_exporter": "python",
   "pygments_lexer": "ipython3",
   "version": "3.9.7"
  }
 },
 "nbformat": 4,
 "nbformat_minor": 5
}
