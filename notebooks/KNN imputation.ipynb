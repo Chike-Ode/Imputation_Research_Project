{
 "cells": [
  {
   "cell_type": "code",
   "execution_count": 1,
   "id": "cf1e18cd",
   "metadata": {},
   "outputs": [],
   "source": [
    "#get processed data\n",
    "\n",
    "import pandas as pd\n",
    "\n",
    "lut = pd.read_csv(\"https://github.com/Chike-Ode/Imputation_Research_Project/blob/master/data/processed/lutein.csv?raw=true\")\n",
    "\n",
    "sug = pd.read_csv(\"https://github.com/Chike-Ode/Imputation_Research_Project/blob/master/data/processed/sugars.csv?raw=true\")\n",
    "\n",
    "wat=pd.read_csv(\"https://github.com/Chike-Ode/Imputation_Research_Project/blob/master/data/processed/water.csv?raw=true\")\n",
    "\n",
    "#dropping Name column\n",
    "lut=lut.drop('name',axis=1)\n",
    "sug=sug.drop('name',axis=1)\n",
    "wat=wat.drop('name',axis=1)\n"
   ]
  },
  {
   "cell_type": "code",
   "execution_count": 3,
   "id": "7a32d340",
   "metadata": {},
   "outputs": [
    {
     "name": "stdout",
     "output_type": "stream",
     "text": [
      "Collecting MissForestExtra\n",
      "  Downloading MissForestExtra-1.1.1-py3-none-any.whl (4.3 kB)\n",
      "Installing collected packages: MissForestExtra\n",
      "Successfully installed MissForestExtra-1.1.1\n",
      "Note: you may need to restart the kernel to use updated packages.\n"
     ]
    }
   ],
   "source": [
    "pip install MissForestExtra"
   ]
  },
  {
   "cell_type": "code",
   "execution_count": 3,
   "id": "d1acede5",
   "metadata": {},
   "outputs": [
    {
     "name": "stdout",
     "output_type": "stream",
     "text": [
      "Collecting missingpy\n",
      "  Downloading missingpy-0.2.0-py3-none-any.whl (49 kB)\n",
      "Installing collected packages: missingpy\n",
      "Successfully installed missingpy-0.2.0\n",
      "Note: you may need to restart the kernel to use updated packages.\n"
     ]
    }
   ],
   "source": [
    "pip install missingpy"
   ]
  },
  {
   "cell_type": "code",
   "execution_count": 3,
   "id": "ec954667",
   "metadata": {},
   "outputs": [
    {
     "name": "stdout",
     "output_type": "stream",
     "text": [
      "Requirement already satisfied: sklearn in c:\\users\\gabri\\anaconda3\\lib\\site-packages (0.0.post1)\n",
      "Note: you may need to restart the kernel to use updated packages.\n"
     ]
    }
   ],
   "source": [
    "pip install sklearn"
   ]
  },
  {
   "cell_type": "code",
   "execution_count": 32,
   "id": "9b3dd0b1",
   "metadata": {},
   "outputs": [
    {
     "data": {
      "text/plain": [
       "numpy.ndarray"
      ]
     },
     "execution_count": 32,
     "metadata": {},
     "output_type": "execute_result"
    }
   ],
   "source": [
    "type(lutmcar)"
   ]
  },
  {
   "cell_type": "code",
   "execution_count": 4,
   "id": "cd586ddb",
   "metadata": {},
   "outputs": [
    {
     "name": "stderr",
     "output_type": "stream",
     "text": [
      "C:\\Users\\gabri\\anaconda3\\lib\\site-packages\\missingpy\\utils.py:124: RuntimeWarning: invalid value encountered in sqrt\n",
      "  return distances if squared else np.sqrt(distances, out=distances)\n",
      "C:\\Users\\gabri\\anaconda3\\lib\\site-packages\\missingpy\\utils.py:124: RuntimeWarning: invalid value encountered in sqrt\n",
      "  return distances if squared else np.sqrt(distances, out=distances)\n",
      "C:\\Users\\gabri\\anaconda3\\lib\\site-packages\\missingpy\\utils.py:124: RuntimeWarning: invalid value encountered in sqrt\n",
      "  return distances if squared else np.sqrt(distances, out=distances)\n",
      "C:\\Users\\gabri\\anaconda3\\lib\\site-packages\\missingpy\\utils.py:124: RuntimeWarning: invalid value encountered in sqrt\n",
      "  return distances if squared else np.sqrt(distances, out=distances)\n",
      "C:\\Users\\gabri\\anaconda3\\lib\\site-packages\\missingpy\\utils.py:124: RuntimeWarning: invalid value encountered in sqrt\n",
      "  return distances if squared else np.sqrt(distances, out=distances)\n",
      "C:\\Users\\gabri\\anaconda3\\lib\\site-packages\\missingpy\\utils.py:124: RuntimeWarning: invalid value encountered in sqrt\n",
      "  return distances if squared else np.sqrt(distances, out=distances)\n"
     ]
    }
   ],
   "source": [
    "#replace NaN using knn algorithm\n",
    "import sys\n",
    "import sklearn.neighbors._base\n",
    "sys.modules['sklearn.neighbors.base'] = sklearn.neighbors._base\n",
    "\n",
    "from missingpy import KNNImputer\n",
    "imp = KNNImputer()\n",
    "\n",
    "\n",
    "#lutein mcar\n",
    "#Need to drop lutein mar and true lutein columns\n",
    "lutmcar=lut.copy()\n",
    "lutmcar=lutmcar.drop(['lutein_zeaxanthin_mar','lutein_zeaxanthin'],axis=1)\n",
    "lutmcarn=lutmcar.to_numpy()\n",
    "imp.fit(lutmcarn)\n",
    "lutmcar2=imp.transform(lutmcarn)\n",
    "\n",
    "lutmcarimp = pd.DataFrame(lutmcar2, columns = lutmcar.columns)\n",
    "\n",
    "#lutein mar\n",
    "#Need to drop lutein mcar and true lutein columns\n",
    "lutmar=lut.copy()\n",
    "lutmar=lutmar.drop(['lutein_zeaxanthin_mcar','lutein_zeaxanthin'],axis=1)\n",
    "lutmarn=lutmar.to_numpy()\n",
    "imp.fit(lutmarn)\n",
    "lutmar2=imp.transform(lutmarn)\n",
    "\n",
    "lutmarimp = pd.DataFrame(lutmar2, columns = lutmar.columns)\n",
    "\n",
    "#sugars mcar\n",
    "#Need to drop sugar mar and true sugar columns\n",
    "sugmcar=sug.copy()\n",
    "sugmcar=sugmcar.drop(['sugars_mar','sugars'],axis=1)\n",
    "sugmcarn=sugmcar.to_numpy()\n",
    "imp.fit(sugmcarn)\n",
    "sugmcar2=imp.transform(sugmcarn)\n",
    "sugmcarimp = pd.DataFrame(sugmcar2, columns = sugmcar.columns)\n",
    "\n",
    "\n",
    "#sugars mar\n",
    "#Need to drop sugar mcar and true sugar columns\n",
    "sugmar=sug.copy()\n",
    "sugmar=sugmar.drop(['sugars_mcar','sugars'],axis=1)\n",
    "sugmarn=sugmar.to_numpy()\n",
    "imp.fit(sugmarn)\n",
    "sugmar2=imp.transform(sugmarn)\n",
    "sugmarimp = pd.DataFrame(sugmar2, columns = sugmar.columns)\n",
    "\n",
    "\n",
    "#water mcar\n",
    "#Need to drop water mar and true water columns\n",
    "watmcar=wat.copy()\n",
    "watmcar=watmcar.drop(['water_mar','water'],axis=1)\n",
    "watmcarn=watmcar.to_numpy()\n",
    "imp.fit(watmcarn)\n",
    "watmcar2=imp.transform(watmcarn)\n",
    "watmcarimp = pd.DataFrame(watmcar2, columns = watmcar.columns)\n",
    "\n",
    "\n",
    "#water mar\n",
    "#Need to drop water mcar and true water columns\n",
    "watmar=wat.copy()\n",
    "watmar=watmar.drop(['water_mcar','water'],axis=1)\n",
    "watmarn=watmar.to_numpy()\n",
    "imp.fit(watmarn)\n",
    "watmar2=imp.transform(watmarn)\n",
    "watmarimp = pd.DataFrame(watmar2, columns = watmar.columns)\n"
   ]
  },
  {
   "cell_type": "code",
   "execution_count": 5,
   "id": "034a5a6c",
   "metadata": {},
   "outputs": [],
   "source": [
    "#adding back the column with true values\n",
    "\n",
    "lutmcarimp['true_lut'] = lut['lutein_zeaxanthin'].values\n",
    "lutmarimp['true_lut'] = lut['lutein_zeaxanthin'].values\n",
    "\n",
    "sugmcarimp['true_sug'] = sug['sugars'].values\n",
    "sugmarimp['true_sug'] = sug['sugars'].values\n",
    "\n",
    "watmcarimp['true_wat'] = wat['water'].values\n",
    "watmarimp['true_wat'] = wat['water'].values"
   ]
  },
  {
   "cell_type": "code",
   "execution_count": 6,
   "id": "6cee2bea",
   "metadata": {},
   "outputs": [
    {
     "name": "stdout",
     "output_type": "stream",
     "text": [
      "RMSE: 341.0967137957277\n",
      "RMSE: 376.4101958257776\n",
      "RMSE: 5.118849633972344\n",
      "RMSE: 2.2161659065742056\n",
      "RMSE: 5.836611968371974\n",
      "RMSE: 4.667779621371764\n",
      "[['lutein', 'mcar', 'RF', 341.0967137957277], ['lutein', 'mar', 'RF', 376.4101958257776], ['sugars', 'mcar', 'RF', 5.118849633972344], ['sugars', 'mar', 'RF', 2.2161659065742056], ['water', 'mcar', 'RF', 5.836611968371974], ['water', 'mar', 'RF', 4.667779621371764]]\n"
     ]
    }
   ],
   "source": [
    "#calculating rmse for each columns and missing type\n",
    "import math\n",
    "import numpy as np\n",
    "\n",
    "\n",
    "meth='RF'\n",
    "results=[]\n",
    "\n",
    "#lutein mcar\n",
    "dat='lutein'\n",
    "dt=lutmcarimp\n",
    "\n",
    "dt['sqrt']=(dt['true_lut']-dt['lutein_zeaxanthin_mcar'])**2\n",
    "lutmcarrmse=math.sqrt(dt['sqrt'].mean())\n",
    "print(\"RMSE:\",lutmcarrmse)\n",
    "results.append([dat,'mcar',meth,lutmcarrmse])\n",
    "\n",
    "#lutein mar\n",
    "dt=lutmarimp\n",
    "\n",
    "dt['sqrt']=(dt['true_lut']-dt['lutein_zeaxanthin_mar'])**2\n",
    "lutmarrmse=math.sqrt(dt['sqrt'].mean())\n",
    "print(\"RMSE:\",lutmarrmse)\n",
    "results.append([dat,'mar',meth,lutmarrmse])\n",
    "\n",
    "#sugars mcar\n",
    "dat='sugars'\n",
    "dt=sugmcarimp\n",
    "\n",
    "dt['sqrt']=(dt['true_sug']-dt['sugars_mcar'])**2\n",
    "sugmcarrmse=math.sqrt(dt['sqrt'].mean())\n",
    "print(\"RMSE:\",sugmcarrmse)\n",
    "results.append([dat,'mcar',meth,sugmcarrmse])\n",
    "\n",
    "#sugars mar\n",
    "dt=sugmarimp\n",
    "\n",
    "dt['sqrt']=(dt['true_sug']-dt['sugars_mar'])**2\n",
    "sugmarrmse=math.sqrt(dt['sqrt'].mean())\n",
    "print(\"RMSE:\",sugmarrmse)\n",
    "results.append([dat,'mar',meth,sugmarrmse])\n",
    "\n",
    "#water mcar\n",
    "dat='water'\n",
    "dt=watmcarimp\n",
    "\n",
    "dt['sqrt']=(dt['true_wat']-dt['water_mcar'])**2\n",
    "watmcarrmse=math.sqrt(dt['sqrt'].mean())\n",
    "print(\"RMSE:\",watmcarrmse)\n",
    "results.append([dat,'mcar',meth,watmcarrmse])\n",
    "\n",
    "#water mcar\n",
    "dt=watmarimp\n",
    "\n",
    "dt['sqrt']=(dt['true_wat']-dt['water_mar'])**2\n",
    "watmarrmse=math.sqrt(dt['sqrt'].mean())\n",
    "print(\"RMSE:\",watmarrmse)\n",
    "results.append([dat,'mar',meth,watmarrmse])\n",
    "\n",
    "print(results)"
   ]
  },
  {
   "cell_type": "code",
   "execution_count": 7,
   "id": "41229d7c",
   "metadata": {},
   "outputs": [
    {
     "name": "stdout",
     "output_type": "stream",
     "text": [
      "   Column Missing type Imputation method        RMSE\n",
      "0  lutein         mcar                RF  341.096714\n",
      "1  lutein          mar                RF  376.410196\n",
      "2  sugars         mcar                RF    5.118850\n",
      "3  sugars          mar                RF    2.216166\n",
      "4   water         mcar                RF    5.836612\n",
      "5   water          mar                RF    4.667780\n"
     ]
    }
   ],
   "source": [
    "res = pd.DataFrame(results, columns = ['Column', 'Missing type','Imputation method','RMSE'])\n",
    "print(res)"
   ]
  },
  {
   "cell_type": "code",
   "execution_count": null,
   "id": "5298d43b",
   "metadata": {},
   "outputs": [],
   "source": []
  }
 ],
 "metadata": {
  "kernelspec": {
   "display_name": "Python 3 (ipykernel)",
   "language": "python",
   "name": "python3"
  },
  "language_info": {
   "codemirror_mode": {
    "name": "ipython",
    "version": 3
   },
   "file_extension": ".py",
   "mimetype": "text/x-python",
   "name": "python",
   "nbconvert_exporter": "python",
   "pygments_lexer": "ipython3",
   "version": "3.9.7"
  }
 },
 "nbformat": 4,
 "nbformat_minor": 5
}
