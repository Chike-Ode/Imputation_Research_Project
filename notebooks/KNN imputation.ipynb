{
 "cells": [
  {
   "cell_type": "code",
   "execution_count": 3,
   "id": "cf1e18cd",
   "metadata": {},
   "outputs": [],
   "source": [
    "#get processed data\n",
    "\n",
    "import pandas as pd\n",
    "\n",
    "lut = pd.read_csv(\"https://github.com/Chike-Ode/Imputation_Research_Project/blob/master/data/processed/lutein.csv?raw=true\")\n",
    "\n",
    "sug = pd.read_csv(\"https://github.com/Chike-Ode/Imputation_Research_Project/blob/master/data/processed/sugars.csv?raw=true\")\n",
    "\n",
    "wat=pd.read_csv(\"https://github.com/Chike-Ode/Imputation_Research_Project/blob/master/data/processed/water.csv?raw=true\")\n",
    "\n",
    "#dropping Name column\n",
    "lut=lut.drop('name',axis=1)\n",
    "sug=sug.drop('name',axis=1)\n",
    "wat=wat.drop('name',axis=1)\n"
   ]
  },
  {
   "cell_type": "code",
   "execution_count": 3,
   "id": "7a32d340",
   "metadata": {},
   "outputs": [
    {
     "name": "stdout",
     "output_type": "stream",
     "text": [
      "Collecting MissForestExtra\n",
      "  Downloading MissForestExtra-1.1.1-py3-none-any.whl (4.3 kB)\n",
      "Installing collected packages: MissForestExtra\n",
      "Successfully installed MissForestExtra-1.1.1\n",
      "Note: you may need to restart the kernel to use updated packages.\n"
     ]
    }
   ],
   "source": [
    "pip install MissForestExtra"
   ]
  },
  {
   "cell_type": "code",
   "execution_count": 3,
   "id": "d1acede5",
   "metadata": {},
   "outputs": [
    {
     "name": "stdout",
     "output_type": "stream",
     "text": [
      "Collecting missingpy\n",
      "  Downloading missingpy-0.2.0-py3-none-any.whl (49 kB)\n",
      "Installing collected packages: missingpy\n",
      "Successfully installed missingpy-0.2.0\n",
      "Note: you may need to restart the kernel to use updated packages.\n"
     ]
    }
   ],
   "source": [
    "pip install missingpy"
   ]
  },
  {
   "cell_type": "code",
   "execution_count": 3,
   "id": "ec954667",
   "metadata": {},
   "outputs": [
    {
     "name": "stdout",
     "output_type": "stream",
     "text": [
      "Requirement already satisfied: sklearn in c:\\users\\gabri\\anaconda3\\lib\\site-packages (0.0.post1)\n",
      "Note: you may need to restart the kernel to use updated packages.\n"
     ]
    }
   ],
   "source": [
    "pip install sklearn"
   ]
  },
  {
   "cell_type": "code",
   "execution_count": 32,
   "id": "9b3dd0b1",
   "metadata": {},
   "outputs": [
    {
     "data": {
      "text/plain": [
       "numpy.ndarray"
      ]
     },
     "execution_count": 32,
     "metadata": {},
     "output_type": "execute_result"
    }
   ],
   "source": [
    "type(lutmcar)"
   ]
  },
  {
   "cell_type": "code",
   "execution_count": 25,
   "id": "c538c845",
   "metadata": {},
   "outputs": [],
   "source": [
    "#create arrays with only the rows that have NaN to measure performance on at the end\n",
    "import numpy as np\n",
    "\n",
    "lutmarnan2=lut[np.isnan(lut['lutein_zeaxanthin_mar'])]\n",
    "lutmarnan=lutmarnan2.drop(['lutein_zeaxanthin_mcar','lutein_zeaxanthin'],axis=1)\n",
    "\n",
    "lutmcarnan2=lut[np.isnan(lut['lutein_zeaxanthin_mcar'])]\n",
    "lutmcarnan=lutmcarnan2.drop(['lutein_zeaxanthin_mar','lutein_zeaxanthin'],axis=1)\n",
    "\n",
    "sugmarnan2=sug[np.isnan(sug['sugars_mar'])]\n",
    "sugmarnan=sugmarnan2.drop(['sugars_mcar','sugars'],axis=1)\n",
    "\n",
    "sugmcarnan2=sug[np.isnan(sug['sugars_mcar'])]\n",
    "sugmcarnan=sugmcarnan2.drop(['sugars_mar','sugars'],axis=1)\n",
    "\n",
    "watmarnan2=wat[np.isnan(wat['water_mar'])]\n",
    "watmarnan=watmarnan2.drop(['water_mcar','water'],axis=1)\n",
    "\n",
    "watmcarnan2=wat[np.isnan(wat['water_mcar'])]\n",
    "watmcarnan=watmcarnan2.drop(['water_mar','water'],axis=1)\n",
    "\n",
    "lutmarnan=lutmarnan.to_numpy()\n",
    "lutmcarnan=lutmcarnan.to_numpy()\n",
    "\n",
    "sugmarnan=sugmarnan.to_numpy()\n",
    "sugmcarnan=sugmcarnan.to_numpy()\n",
    "\n",
    "watmarnan=watmarnan.to_numpy()\n",
    "watmcarnan=watmcarnan.to_numpy()\n"
   ]
  },
  {
   "cell_type": "code",
   "execution_count": 26,
   "id": "cd586ddb",
   "metadata": {},
   "outputs": [
    {
     "name": "stderr",
     "output_type": "stream",
     "text": [
      "C:\\Users\\gabri\\anaconda3\\lib\\site-packages\\missingpy\\utils.py:124: RuntimeWarning: invalid value encountered in sqrt\n",
      "  return distances if squared else np.sqrt(distances, out=distances)\n",
      "C:\\Users\\gabri\\anaconda3\\lib\\site-packages\\missingpy\\utils.py:124: RuntimeWarning: invalid value encountered in sqrt\n",
      "  return distances if squared else np.sqrt(distances, out=distances)\n"
     ]
    }
   ],
   "source": [
    "#replace NaN using knn algorithm\n",
    "import sys\n",
    "import sklearn.neighbors._base\n",
    "sys.modules['sklearn.neighbors.base'] = sklearn.neighbors._base\n",
    "\n",
    "from missingpy import KNNImputer\n",
    "imp = KNNImputer()\n",
    "\n",
    "\n",
    "#lutein mcar\n",
    "#Need to drop lutein mar and true lutein columns\n",
    "lutmcar=lut.copy()\n",
    "lutmcar = lutmcar[lutmcar['lutein_zeaxanthin_mcar'].notnull()]\n",
    "lutmcar=lutmcar.drop(['lutein_zeaxanthin_mar','lutein_zeaxanthin'],axis=1)\n",
    "lutmcarn=lutmcar.to_numpy()\n",
    "imp.fit(lutmcarn)\n",
    "lutmcar2=imp.transform(lutmcarnan)\n",
    "\n",
    "lutmcarimp = pd.DataFrame(lutmcar2, columns = lutmcar.columns)\n",
    "\n",
    "#lutein mar\n",
    "#Need to drop lutein mcar and true lutein columns\n",
    "lutmar=lut.copy()\n",
    "lutmar = lutmar[lutmar['lutein_zeaxanthin_mar'].notnull()]\n",
    "lutmar=lutmar.drop(['lutein_zeaxanthin_mcar','lutein_zeaxanthin'],axis=1)\n",
    "lutmarn=lutmar.to_numpy()\n",
    "imp.fit(lutmarn)\n",
    "lutmar2=imp.transform(lutmarnan)\n",
    "\n",
    "lutmarimp = pd.DataFrame(lutmar2, columns = lutmar.columns)\n",
    "\n",
    "#sugars mcar\n",
    "#Need to drop sugar mar and true sugar columns\n",
    "sugmcar=sug.copy()\n",
    "sugmcar = sugmcar[sugmcar['sugars_mcar'].notnull()]\n",
    "sugmcar=sugmcar.drop(['sugars_mar','sugars'],axis=1)\n",
    "sugmcarn=sugmcar.to_numpy()\n",
    "imp.fit(sugmcarn)\n",
    "sugmcar2=imp.transform(sugmcarnan)\n",
    "sugmcarimp = pd.DataFrame(sugmcar2, columns = sugmcar.columns)\n",
    "\n",
    "\n",
    "#sugars mar\n",
    "#Need to drop sugar mcar and true sugar columns\n",
    "sugmar=sug.copy()\n",
    "sugmar = sugmar[sugmar['sugars_mar'].notnull()]\n",
    "sugmar=sugmar.drop(['sugars_mcar','sugars'],axis=1)\n",
    "sugmarn=sugmar.to_numpy()\n",
    "imp.fit(sugmarn)\n",
    "sugmar2=imp.transform(sugmarnan)\n",
    "sugmarimp = pd.DataFrame(sugmar2, columns = sugmar.columns)\n",
    "\n",
    "\n",
    "#water mcar\n",
    "#Need to drop water mar and true water columns\n",
    "watmcar=wat.copy()\n",
    "watmcar = watmcar[watmcar['water_mcar'].notnull()]\n",
    "watmcar=watmcar.drop(['water_mar','water'],axis=1)\n",
    "watmcarn=watmcar.to_numpy()\n",
    "imp.fit(watmcarn)\n",
    "watmcar2=imp.transform(watmcarnan)\n",
    "watmcarimp = pd.DataFrame(watmcar2, columns = watmcar.columns)\n",
    "\n",
    "\n",
    "#water mar\n",
    "#Need to drop water mcar and true water columns\n",
    "watmar=wat.copy()\n",
    "watmar = watmar[watmar['water_mar'].notnull()]\n",
    "watmar=watmar.drop(['water_mcar','water'],axis=1)\n",
    "watmarn=watmar.to_numpy()\n",
    "imp.fit(watmarn)\n",
    "watmar2=imp.transform(watmarnan)\n",
    "watmarimp = pd.DataFrame(watmar2, columns = watmar.columns)\n"
   ]
  },
  {
   "cell_type": "code",
   "execution_count": 24,
   "id": "0423040a",
   "metadata": {},
   "outputs": [
    {
     "name": "stdout",
     "output_type": "stream",
     "text": [
      "      total_fat  saturated_fat  cholesterol  sodium  choline  folate  \\\n",
      "0           2.4            0.4          0.0    12.0     13.1     0.0   \n",
      "1           2.0            1.2          1.0    46.0      7.7     4.0   \n",
      "2           0.3            0.1          0.0    30.0     44.3    57.0   \n",
      "3          16.0            2.5          0.0   374.0      0.0    18.0   \n",
      "4           0.4            0.1          0.0     3.0      7.5    27.0   \n",
      "...         ...            ...          ...     ...      ...     ...   \n",
      "2246       80.0           20.0          0.0   879.0      0.0     3.0   \n",
      "2247        6.4            2.2         92.0    46.0    131.3    12.0   \n",
      "2248        6.8            2.3         77.0    36.0    104.9     9.0   \n",
      "2249        5.4            1.8         63.0    71.0     98.6     8.0   \n",
      "2250       29.0           12.0         82.0    63.0     84.8     6.0   \n",
      "\n",
      "      folic_acid  niacin  pantothenic_acid  riboflavin  ...  \\\n",
      "0            0.0   3.363             0.942       0.270  ...   \n",
      "1            0.0   0.063             0.224       0.097  ...   \n",
      "2            0.0   0.507             0.667       0.060  ...   \n",
      "3           15.0   1.425             0.110       0.106  ...   \n",
      "4            0.0   1.280             0.315       0.070  ...   \n",
      "...          ...     ...               ...         ...  ...   \n",
      "2246         0.0   0.050             0.187       0.081  ...   \n",
      "2247         0.0   5.927             0.679       0.187  ...   \n",
      "2248         0.0   5.294             0.541       0.172  ...   \n",
      "2249         0.0   3.635             0.000       0.230  ...   \n",
      "2250         0.0   3.250             0.320       0.170  ...   \n",
      "\n",
      "      saturated_fatty_acids  monounsaturated_fatty_acids  \\\n",
      "0                     0.449                        0.589   \n",
      "1                     1.160                        0.530   \n",
      "2                     0.130                        0.034   \n",
      "3                     2.457                        7.449   \n",
      "4                     0.092                        0.029   \n",
      "...                     ...                          ...   \n",
      "2246                 20.442                       46.692   \n",
      "2247                  2.216                        2.688   \n",
      "2248                  2.334                        2.831   \n",
      "2249                  1.828                        2.608   \n",
      "2250                 11.570                       12.120   \n",
      "\n",
      "      polyunsaturated_fatty_acids  fatty_acids_total_trans  alcohol   ash  \\\n",
      "0                           1.071                      0.0      0.0  2.37   \n",
      "1                           0.080                      1.0      0.0  0.40   \n",
      "2                           0.031                      0.0      0.0  0.76   \n",
      "3                           5.376                      0.0      0.0  1.10   \n",
      "4                           0.112                      0.0      0.0  0.53   \n",
      "...                           ...                      ...      ...   ...   \n",
      "2246                        9.265                      0.0      0.0  2.00   \n",
      "2247                        0.260                     92.0      0.0  1.05   \n",
      "2248                        0.274                     77.0      0.0  1.07   \n",
      "2249                        0.384                     63.0      0.0  1.36   \n",
      "2250                        1.040                     82.0      0.0  1.03   \n",
      "\n",
      "      caffeine  theobromine  water  lutein_zeaxanthin_mcar  \n",
      "0          0.0          0.0   8.82                    72.0  \n",
      "1          0.0          0.0  66.10                    89.0  \n",
      "2          0.0          0.0  92.07                    94.0  \n",
      "3          0.0          0.0  37.60                    12.4  \n",
      "4          0.0          0.0  91.69                   515.6  \n",
      "...        ...          ...    ...                     ...  \n",
      "2246       0.0          0.0  15.80                     0.0  \n",
      "2247       0.0          0.0  58.64                     0.0  \n",
      "2248       0.0          0.0  65.26                     0.0  \n",
      "2249       0.0          0.0  66.27                     0.0  \n",
      "2250       0.0          0.0  47.33                     0.0  \n",
      "\n",
      "[2251 rows x 72 columns]\n"
     ]
    }
   ],
   "source": [
    "print(lutmcarimp)"
   ]
  },
  {
   "cell_type": "code",
   "execution_count": 31,
   "id": "034a5a6c",
   "metadata": {},
   "outputs": [],
   "source": [
    "#adding back the column with true values\n",
    "\n",
    "lutmcarimp['true_lut'] = lutmcarnan2['lutein_zeaxanthin'].values\n",
    "lutmarimp['true_lut'] = lutmarnan2['lutein_zeaxanthin'].values\n",
    "\n",
    "sugmcarimp['true_sug'] = sugmcarnan2['sugars'].values\n",
    "sugmarimp['true_sug'] = sugmarnan2['sugars'].values\n",
    "\n",
    "watmcarimp['true_wat'] = watmcarnan2['water'].values\n",
    "watmarimp['true_wat'] = watmarnan2['water'].values"
   ]
  },
  {
   "cell_type": "code",
   "execution_count": 29,
   "id": "1ac916ed",
   "metadata": {},
   "outputs": [
    {
     "name": "stdout",
     "output_type": "stream",
     "text": [
      "[[ 2.4   0.4   0.   ...  0.    8.82   nan]\n",
      " [ 2.    1.2   1.   ...  0.   66.1    nan]\n",
      " [ 0.3   0.1   0.   ...  0.   92.07   nan]\n",
      " ...\n",
      " [ 6.4   2.2  92.   ...  0.   58.64   nan]\n",
      " [ 5.4   1.8  63.   ...  0.   66.27   nan]\n",
      " [29.   12.   82.   ...  0.   47.33   nan]]\n"
     ]
    }
   ],
   "source": []
  },
  {
   "cell_type": "code",
   "execution_count": 32,
   "id": "6cee2bea",
   "metadata": {},
   "outputs": [
    {
     "name": "stdout",
     "output_type": "stream",
     "text": [
      "RMSE: 609.9944373467332\n",
      "RMSE: 839.582156219483\n",
      "RMSE: 9.154206640077577\n",
      "RMSE: 7.086830190411457\n",
      "RMSE: 12.890024101663403\n",
      "RMSE: 14.905415261541014\n",
      "[['lutein', 'mcar', 'RF', 609.9944373467332], ['lutein', 'mar', 'RF', 839.582156219483], ['sugars', 'mcar', 'RF', 9.154206640077577], ['sugars', 'mar', 'RF', 7.086830190411457], ['water', 'mcar', 'RF', 12.890024101663403], ['water', 'mar', 'RF', 14.905415261541014]]\n"
     ]
    }
   ],
   "source": [
    "#calculating rmse for each columns and missing type\n",
    "import math\n",
    "import numpy as np\n",
    "\n",
    "\n",
    "meth='RF'\n",
    "results=[]\n",
    "\n",
    "#lutein mcar\n",
    "dat='lutein'\n",
    "dt=lutmcarimp\n",
    "\n",
    "dt['sqrt']=(dt['true_lut']-dt['lutein_zeaxanthin_mcar'])**2\n",
    "lutmcarrmse=math.sqrt(dt['sqrt'].mean())\n",
    "print(\"RMSE:\",lutmcarrmse)\n",
    "results.append([dat,'mcar',meth,lutmcarrmse])\n",
    "\n",
    "#lutein mar\n",
    "dt=lutmarimp\n",
    "\n",
    "dt['sqrt']=(dt['true_lut']-dt['lutein_zeaxanthin_mar'])**2\n",
    "lutmarrmse=math.sqrt(dt['sqrt'].mean())\n",
    "print(\"RMSE:\",lutmarrmse)\n",
    "results.append([dat,'mar',meth,lutmarrmse])\n",
    "\n",
    "#sugars mcar\n",
    "dat='sugars'\n",
    "dt=sugmcarimp\n",
    "\n",
    "dt['sqrt']=(dt['true_sug']-dt['sugars_mcar'])**2\n",
    "sugmcarrmse=math.sqrt(dt['sqrt'].mean())\n",
    "print(\"RMSE:\",sugmcarrmse)\n",
    "results.append([dat,'mcar',meth,sugmcarrmse])\n",
    "\n",
    "#sugars mar\n",
    "dt=sugmarimp\n",
    "\n",
    "dt['sqrt']=(dt['true_sug']-dt['sugars_mar'])**2\n",
    "sugmarrmse=math.sqrt(dt['sqrt'].mean())\n",
    "print(\"RMSE:\",sugmarrmse)\n",
    "results.append([dat,'mar',meth,sugmarrmse])\n",
    "\n",
    "#water mcar\n",
    "dat='water'\n",
    "dt=watmcarimp\n",
    "\n",
    "dt['sqrt']=(dt['true_wat']-dt['water_mcar'])**2\n",
    "watmcarrmse=math.sqrt(dt['sqrt'].mean())\n",
    "print(\"RMSE:\",watmcarrmse)\n",
    "results.append([dat,'mcar',meth,watmcarrmse])\n",
    "\n",
    "#water mcar\n",
    "dt=watmarimp\n",
    "\n",
    "dt['sqrt']=(dt['true_wat']-dt['water_mar'])**2\n",
    "watmarrmse=math.sqrt(dt['sqrt'].mean())\n",
    "print(\"RMSE:\",watmarrmse)\n",
    "results.append([dat,'mar',meth,watmarrmse])\n",
    "\n",
    "print(results)"
   ]
  },
  {
   "cell_type": "code",
   "execution_count": 33,
   "id": "41229d7c",
   "metadata": {},
   "outputs": [
    {
     "name": "stdout",
     "output_type": "stream",
     "text": [
      "   Column Missing type Imputation method        RMSE\n",
      "0  lutein         mcar                RF  609.994437\n",
      "1  lutein          mar                RF  839.582156\n",
      "2  sugars         mcar                RF    9.154207\n",
      "3  sugars          mar                RF    7.086830\n",
      "4   water         mcar                RF   12.890024\n",
      "5   water          mar                RF   14.905415\n"
     ]
    }
   ],
   "source": [
    "res = pd.DataFrame(results, columns = ['Column', 'Missing type','Imputation method','RMSE'])\n",
    "print(res)"
   ]
  },
  {
   "cell_type": "code",
   "execution_count": null,
   "id": "5298d43b",
   "metadata": {},
   "outputs": [],
   "source": []
  }
 ],
 "metadata": {
  "kernelspec": {
   "display_name": "Python 3 (ipykernel)",
   "language": "python",
   "name": "python3"
  },
  "language_info": {
   "codemirror_mode": {
    "name": "ipython",
    "version": 3
   },
   "file_extension": ".py",
   "mimetype": "text/x-python",
   "name": "python",
   "nbconvert_exporter": "python",
   "pygments_lexer": "ipython3",
   "version": "3.9.7"
  }
 },
 "nbformat": 4,
 "nbformat_minor": 5
}
