{
 "cells": [
  {
   "cell_type": "code",
   "execution_count": 2,
   "id": "aa98cb00",
   "metadata": {},
   "outputs": [
    {
     "data": {
      "text/html": [
       "<div>\n",
       "<style scoped>\n",
       "    .dataframe tbody tr th:only-of-type {\n",
       "        vertical-align: middle;\n",
       "    }\n",
       "\n",
       "    .dataframe tbody tr th {\n",
       "        vertical-align: top;\n",
       "    }\n",
       "\n",
       "    .dataframe thead th {\n",
       "        text-align: right;\n",
       "    }\n",
       "</style>\n",
       "<table border=\"1\" class=\"dataframe\">\n",
       "  <thead>\n",
       "    <tr style=\"text-align: right;\">\n",
       "      <th></th>\n",
       "      <th>name</th>\n",
       "      <th>total_fat</th>\n",
       "      <th>saturated_fat</th>\n",
       "      <th>cholesterol</th>\n",
       "      <th>sodium</th>\n",
       "      <th>choline</th>\n",
       "      <th>folate</th>\n",
       "      <th>folic_acid</th>\n",
       "      <th>niacin</th>\n",
       "      <th>pantothenic_acid</th>\n",
       "      <th>...</th>\n",
       "      <th>polyunsaturated_fatty_acids</th>\n",
       "      <th>fatty_acids_total_trans</th>\n",
       "      <th>alcohol</th>\n",
       "      <th>ash</th>\n",
       "      <th>caffeine</th>\n",
       "      <th>theobromine</th>\n",
       "      <th>water</th>\n",
       "      <th>lutein_zeaxanthin_mcar</th>\n",
       "      <th>lutein_zeaxanthin_mar</th>\n",
       "      <th>lutein_zeaxanthin</th>\n",
       "    </tr>\n",
       "  </thead>\n",
       "  <tbody>\n",
       "    <tr>\n",
       "      <th>0</th>\n",
       "      <td>Nuts, pecans</td>\n",
       "      <td>72.0</td>\n",
       "      <td>6.2</td>\n",
       "      <td>0</td>\n",
       "      <td>0.0</td>\n",
       "      <td>40.5</td>\n",
       "      <td>22.0</td>\n",
       "      <td>0.0</td>\n",
       "      <td>1.167</td>\n",
       "      <td>0.863</td>\n",
       "      <td>...</td>\n",
       "      <td>21.614</td>\n",
       "      <td>0.0</td>\n",
       "      <td>0.0</td>\n",
       "      <td>1.49</td>\n",
       "      <td>0.0</td>\n",
       "      <td>0.0</td>\n",
       "      <td>3.52</td>\n",
       "      <td>17.0</td>\n",
       "      <td>17.0</td>\n",
       "      <td>17.0</td>\n",
       "    </tr>\n",
       "    <tr>\n",
       "      <th>1</th>\n",
       "      <td>Teff, uncooked</td>\n",
       "      <td>2.4</td>\n",
       "      <td>0.4</td>\n",
       "      <td>0</td>\n",
       "      <td>12.0</td>\n",
       "      <td>13.1</td>\n",
       "      <td>0.0</td>\n",
       "      <td>0.0</td>\n",
       "      <td>3.363</td>\n",
       "      <td>0.942</td>\n",
       "      <td>...</td>\n",
       "      <td>1.071</td>\n",
       "      <td>0.0</td>\n",
       "      <td>0.0</td>\n",
       "      <td>2.37</td>\n",
       "      <td>0.0</td>\n",
       "      <td>0.0</td>\n",
       "      <td>8.82</td>\n",
       "      <td>NaN</td>\n",
       "      <td>NaN</td>\n",
       "      <td>66.0</td>\n",
       "    </tr>\n",
       "    <tr>\n",
       "      <th>2</th>\n",
       "      <td>Sherbet, orange</td>\n",
       "      <td>2.0</td>\n",
       "      <td>1.2</td>\n",
       "      <td>1</td>\n",
       "      <td>46.0</td>\n",
       "      <td>7.7</td>\n",
       "      <td>4.0</td>\n",
       "      <td>0.0</td>\n",
       "      <td>0.063</td>\n",
       "      <td>0.224</td>\n",
       "      <td>...</td>\n",
       "      <td>0.080</td>\n",
       "      <td>1.0</td>\n",
       "      <td>0.0</td>\n",
       "      <td>0.40</td>\n",
       "      <td>0.0</td>\n",
       "      <td>0.0</td>\n",
       "      <td>66.10</td>\n",
       "      <td>NaN</td>\n",
       "      <td>NaN</td>\n",
       "      <td>7.0</td>\n",
       "    </tr>\n",
       "    <tr>\n",
       "      <th>3</th>\n",
       "      <td>Cauliflower, raw</td>\n",
       "      <td>0.3</td>\n",
       "      <td>0.1</td>\n",
       "      <td>0</td>\n",
       "      <td>30.0</td>\n",
       "      <td>44.3</td>\n",
       "      <td>57.0</td>\n",
       "      <td>0.0</td>\n",
       "      <td>0.507</td>\n",
       "      <td>0.667</td>\n",
       "      <td>...</td>\n",
       "      <td>0.031</td>\n",
       "      <td>0.0</td>\n",
       "      <td>0.0</td>\n",
       "      <td>0.76</td>\n",
       "      <td>0.0</td>\n",
       "      <td>0.0</td>\n",
       "      <td>92.07</td>\n",
       "      <td>NaN</td>\n",
       "      <td>NaN</td>\n",
       "      <td>1.0</td>\n",
       "    </tr>\n",
       "    <tr>\n",
       "      <th>4</th>\n",
       "      <td>Taro leaves, raw</td>\n",
       "      <td>0.7</td>\n",
       "      <td>0.2</td>\n",
       "      <td>0</td>\n",
       "      <td>3.0</td>\n",
       "      <td>12.8</td>\n",
       "      <td>126.0</td>\n",
       "      <td>0.0</td>\n",
       "      <td>1.513</td>\n",
       "      <td>0.084</td>\n",
       "      <td>...</td>\n",
       "      <td>0.307</td>\n",
       "      <td>0.0</td>\n",
       "      <td>0.0</td>\n",
       "      <td>1.92</td>\n",
       "      <td>0.0</td>\n",
       "      <td>0.0</td>\n",
       "      <td>85.66</td>\n",
       "      <td>1932.0</td>\n",
       "      <td>1932.0</td>\n",
       "      <td>1932.0</td>\n",
       "    </tr>\n",
       "  </tbody>\n",
       "</table>\n",
       "<p>5 rows × 75 columns</p>\n",
       "</div>"
      ],
      "text/plain": [
       "               name  total_fat  saturated_fat  cholesterol  sodium  choline  \\\n",
       "0      Nuts, pecans       72.0            6.2            0     0.0     40.5   \n",
       "1    Teff, uncooked        2.4            0.4            0    12.0     13.1   \n",
       "2   Sherbet, orange        2.0            1.2            1    46.0      7.7   \n",
       "3  Cauliflower, raw        0.3            0.1            0    30.0     44.3   \n",
       "4  Taro leaves, raw        0.7            0.2            0     3.0     12.8   \n",
       "\n",
       "   folate  folic_acid  niacin  pantothenic_acid  ...  \\\n",
       "0    22.0         0.0   1.167             0.863  ...   \n",
       "1     0.0         0.0   3.363             0.942  ...   \n",
       "2     4.0         0.0   0.063             0.224  ...   \n",
       "3    57.0         0.0   0.507             0.667  ...   \n",
       "4   126.0         0.0   1.513             0.084  ...   \n",
       "\n",
       "   polyunsaturated_fatty_acids  fatty_acids_total_trans  alcohol   ash  \\\n",
       "0                       21.614                      0.0      0.0  1.49   \n",
       "1                        1.071                      0.0      0.0  2.37   \n",
       "2                        0.080                      1.0      0.0  0.40   \n",
       "3                        0.031                      0.0      0.0  0.76   \n",
       "4                        0.307                      0.0      0.0  1.92   \n",
       "\n",
       "   caffeine  theobromine  water  lutein_zeaxanthin_mcar  \\\n",
       "0       0.0          0.0   3.52                    17.0   \n",
       "1       0.0          0.0   8.82                     NaN   \n",
       "2       0.0          0.0  66.10                     NaN   \n",
       "3       0.0          0.0  92.07                     NaN   \n",
       "4       0.0          0.0  85.66                  1932.0   \n",
       "\n",
       "   lutein_zeaxanthin_mar  lutein_zeaxanthin  \n",
       "0                   17.0               17.0  \n",
       "1                    NaN               66.0  \n",
       "2                    NaN                7.0  \n",
       "3                    NaN                1.0  \n",
       "4                 1932.0             1932.0  \n",
       "\n",
       "[5 rows x 75 columns]"
      ]
     },
     "execution_count": 2,
     "metadata": {},
     "output_type": "execute_result"
    }
   ],
   "source": [
    "#get processed data\n",
    "\n",
    "import pandas as pd\n",
    "\n",
    "df = pd.read_csv(\"https://github.com/Chike-Ode/Imputation_Research_Project/blob/master/data/processed/lutein.csv?raw=true\")\n",
    "df.head()"
   ]
  },
  {
   "cell_type": "code",
   "execution_count": 18,
   "id": "26ccff31",
   "metadata": {},
   "outputs": [
    {
     "data": {
      "image/png": "[encoded data removed]",
      "text/plain": [
       "<Figure size 432x288 with 1 Axes>"
      ]
     },
     "metadata": {
      "needs_background": "light"
     },
     "output_type": "display_data"
    }
   ],
   "source": [
    "import matplotlib.pyplot as plt  \n",
    "\n",
    "plt.hist(df['lutein_zeaxanthin'], log=True)\n",
    "plt.ylabel('Log frequency')\n",
    "plt.xlabel('Quantity (mcg)')\n",
    "plt.title('Lutein distribution')\n",
    "plt.savefig('luteindist.png', bbox_inches='tight')"
   ]
  },
  {
   "cell_type": "code",
   "execution_count": 19,
   "id": "3d131dfc",
   "metadata": {},
   "outputs": [
    {
     "data": {
      "image/png": "[encoded data removed]",
      "text/plain": [
       "<Figure size 432x288 with 1 Axes>"
      ]
     },
     "metadata": {
      "needs_background": "light"
     },
     "output_type": "display_data"
    }
   ],
   "source": [
    "plt.hist(df['water'], log=False)\n",
    "plt.ylabel('Frequency')\n",
    "plt.xlabel('Quantity (g)')\n",
    "plt.title('Water distribution')\n",
    "plt.savefig('waterdist.png', bbox_inches='tight')"
   ]
  },
  {
   "cell_type": "code",
   "execution_count": 20,
   "id": "00be7d77",
   "metadata": {},
   "outputs": [
    {
     "data": {
      "image/png": "[encoded data removed]",
      "text/plain": [
       "<Figure size 432x288 with 1 Axes>"
      ]
     },
     "metadata": {
      "needs_background": "light"
     },
     "output_type": "display_data"
    }
   ],
   "source": [
    "plt.hist(df['sugars'], log=True)\n",
    "plt.ylabel('Log Frequency')\n",
    "plt.xlabel('Quantity (g)')\n",
    "plt.title('Sugars distribution')\n",
    "plt.savefig('sugarsdist.png', bbox_inches='tight')"
   ]
  },
  {
   "cell_type": "code",
   "execution_count": null,
   "id": "be2b2b04",
   "metadata": {},
   "outputs": [],
   "source": []
  }
 ],
 "metadata": {
  "kernelspec": {
   "display_name": "Python 3 (ipykernel)",
   "language": "python",
   "name": "python3"
  },
  "language_info": {
   "codemirror_mode": {
    "name": "ipython",
    "version": 3
   },
   "file_extension": ".py",
   "mimetype": "text/x-python",
   "name": "python",
   "nbconvert_exporter": "python",
   "pygments_lexer": "ipython3",
   "version": "3.9.7"
  }
 },
 "nbformat": 4,
 "nbformat_minor": 5
}
